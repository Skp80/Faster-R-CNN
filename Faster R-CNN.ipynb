{
  "nbformat": 4,
  "nbformat_minor": 0,
  "metadata": {
    "kernelspec": {
      "display_name": "Python 3",
      "language": "python",
      "name": "python3"
    },
    "language_info": {
      "codemirror_mode": {
        "name": "ipython",
        "version": 3
      },
      "file_extension": ".py",
      "mimetype": "text/x-python",
      "name": "python",
      "nbconvert_exporter": "python",
      "pygments_lexer": "ipython3",
      "version": "3.7.3"
    },
    "colab": {
      "name": "Faster R-CNN.ipynb",
      "provenance": [],
      "toc_visible": true
    }
  },
  "cells": [
    {
      "cell_type": "markdown",
      "metadata": {
        "id": "x0Dn0SmWkikx",
        "colab_type": "text"
      },
      "source": [
        "# Faster R-CNN Implementation"
      ]
    },
    {
      "cell_type": "markdown",
      "metadata": {
        "id": "nvVCrlJX5XD_",
        "colab_type": "text"
      },
      "source": [
        "##Toolbox"
      ]
    },
    {
      "cell_type": "markdown",
      "metadata": {
        "id": "cvgFWgVm2FwM",
        "colab_type": "text"
      },
      "source": [
        "##Architecture"
      ]
    },
    {
      "cell_type": "markdown",
      "metadata": {
        "id": "Kv9MqH-v2Io3",
        "colab_type": "text"
      },
      "source": [
        "##Input"
      ]
    },
    {
      "cell_type": "markdown",
      "metadata": {
        "id": "aWgsGzoj2MaQ",
        "colab_type": "text"
      },
      "source": [
        "## Base Model"
      ]
    },
    {
      "cell_type": "markdown",
      "metadata": {
        "id": "7-S5Uilc2Pho",
        "colab_type": "text"
      },
      "source": [
        "##RPN"
      ]
    },
    {
      "cell_type": "markdown",
      "metadata": {
        "id": "cqZt2eDI2SKI",
        "colab_type": "text"
      },
      "source": [
        "##ROI"
      ]
    },
    {
      "cell_type": "markdown",
      "metadata": {
        "id": "jlYNAItP2UUB",
        "colab_type": "text"
      },
      "source": [
        "##R-CNN"
      ]
    }
  ]
}