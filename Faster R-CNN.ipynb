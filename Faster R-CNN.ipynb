{
  "nbformat": 4,
  "nbformat_minor": 0,
  "metadata": {
    "kernelspec": {
      "display_name": "Python 3",
      "language": "python",
      "name": "python3"
    },
    "language_info": {
      "codemirror_mode": {
        "name": "ipython",
        "version": 3
      },
      "file_extension": ".py",
      "mimetype": "text/x-python",
      "name": "python",
      "nbconvert_exporter": "python",
      "pygments_lexer": "ipython3",
      "version": "3.7.3"
    },
    "colab": {
      "name": "Faster R-CNN.ipynb",
      "provenance": [],
      "toc_visible": true
    }
  },
  "cells": [
    {
      "cell_type": "markdown",
      "metadata": {
        "id": "x0Dn0SmWkikx",
        "colab_type": "text"
      },
      "source": [
        "# Faster R-CNN Implementation"
      ]
    },
    {
      "cell_type": "markdown",
      "metadata": {
        "id": "nvVCrlJX5XD_",
        "colab_type": "text"
      },
      "source": [
        "##Toolbox"
      ]
    },
    {
      "cell_type": "code",
      "metadata": {
        "id": "KrPJBdPBZ-x_",
        "colab_type": "code",
        "outputId": "f7e14f81-7c4f-4695-93e1-f7f661340e7a",
        "colab": {
          "base_uri": "https://localhost:8080/",
          "height": 34
        }
      },
      "source": [
        "%tensorflow_version 2.x"
      ],
      "execution_count": 1,
      "outputs": [
        {
          "output_type": "stream",
          "text": [
            "TensorFlow 2.x selected.\n"
          ],
          "name": "stdout"
        }
      ]
    },
    {
      "cell_type": "code",
      "metadata": {
        "id": "5dteJlA58p3n",
        "colab_type": "code",
        "colab": {}
      },
      "source": [
        "from __future__ import absolute_import, division, print_function, unicode_literals\n",
        "import doctest\n",
        "import os\n",
        "\n",
        "import pandas as pd\n",
        "import numpy as np\n",
        "\n",
        "import tensorflow as tf\n",
        "from tensorflow.keras import backend as K\n",
        "from tensorflow.keras.optimizers import Adam, SGD, RMSprop\n",
        "from tensorflow.keras.layers import Flatten, Dense, Input, Conv2D, MaxPooling2D, Dropout, Layer, Concatenate\n",
        "from tensorflow.keras.layers import GlobalAveragePooling2D, GlobalMaxPooling2D, TimeDistributed"
      ],
      "execution_count": 0,
      "outputs": []
    },
    {
      "cell_type": "code",
      "metadata": {
        "id": "8VFTrKjIdH56",
        "colab_type": "code",
        "outputId": "164e5926-ad0e-4204-ad6b-fb76f31d1932",
        "colab": {
          "base_uri": "https://localhost:8080/",
          "height": 386
        }
      },
      "source": [
        "doctest.testmod(verbose=True)\n",
        "def iou(bbox1, bbox2):\n",
        "  '''\n",
        "  Bbox format must be [x_min,y_min,x_max,y_max]\n",
        "  >>> iou([10,10,10,10],[5,5,5,5])\n",
        "  0\n",
        "  >>> iou([0,0,4,4],[2,2,4,4])\n",
        "  0.25\n",
        "  >>> iou([0,0,4,4],[2,2,6,6])\n",
        "  0.14285714285714285\n",
        "  '''\n",
        "\n",
        "  xmin_inter = max(bbox1[0],bbox2[0])\n",
        "  ymin_inter = max(bbox1[1],bbox2[1])\n",
        "  xmax_inter = min(bbox1[2],bbox2[2])\n",
        "  ymax_inter = min(bbox1[3],bbox2[3])\n",
        "\n",
        "  width_inter = max(xmax_inter - xmin_inter,0)\n",
        "  height_inter = max(ymax_inter - ymin_inter,0)\n",
        "  if(width_inter == 0 or height_inter == 0):\n",
        "    iou = 0\n",
        "  else:\n",
        "    iou = width_inter*height_inter/((bbox1[2]-bbox1[0])*((bbox1[3]-bbox1[1]))+(bbox2[2]-bbox2[0])*((bbox2[3]-bbox2[1]))-width_inter*height_inter)\n",
        "  return iou\n"
      ],
      "execution_count": 4,
      "outputs": [
        {
          "output_type": "stream",
          "text": [
            "Trying:\n",
            "    iou([10,10,10,10],[5,5,5,5])\n",
            "Expecting:\n",
            "    0\n",
            "ok\n",
            "Trying:\n",
            "    iou([0,0,4,4],[2,2,4,4])\n",
            "Expecting:\n",
            "    0.25\n",
            "ok\n",
            "Trying:\n",
            "    iou([0,0,4,4],[2,2,6,6])\n",
            "Expecting:\n",
            "    0.14285714285714285\n",
            "ok\n",
            "1 items had no tests:\n",
            "    __main__\n",
            "1 items passed all tests:\n",
            "   3 tests in __main__.iou\n",
            "3 tests in 2 items.\n",
            "3 passed and 0 failed.\n",
            "Test passed.\n"
          ],
          "name": "stdout"
        }
      ]
    },
    {
      "cell_type": "markdown",
      "metadata": {
        "id": "cvgFWgVm2FwM",
        "colab_type": "text"
      },
      "source": [
        "##Architecture"
      ]
    },
    {
      "cell_type": "markdown",
      "metadata": {
        "id": "Kv9MqH-v2Io3",
        "colab_type": "text"
      },
      "source": [
        "##Input"
      ]
    },
    {
      "cell_type": "code",
      "metadata": {
        "id": "MG_Ps_0tKL3V",
        "colab_type": "code",
        "outputId": "81aaf6bc-ae3d-4234-9db0-a5ab8503c835",
        "colab": {
          "base_uri": "https://localhost:8080/",
          "height": 50
        }
      },
      "source": [
        "from google.colab import drive\n",
        "drive.mount('/gdrive')\n",
        "%cd /gdrive"
      ],
      "execution_count": 11,
      "outputs": [
        {
          "output_type": "stream",
          "text": [
            "Drive already mounted at /gdrive; to attempt to forcibly remount, call drive.mount(\"/gdrive\", force_remount=True).\n",
            "/gdrive\n"
          ],
          "name": "stdout"
        }
      ]
    },
    {
      "cell_type": "code",
      "metadata": {
        "id": "Yp4lVor3KHMs",
        "colab_type": "code",
        "outputId": "64a16e9f-ff6b-417e-d133-952f9e72f5e5",
        "colab": {
          "base_uri": "https://localhost:8080/",
          "height": 34
        }
      },
      "source": [
        "base_filepath = 'My Drive/SoccerAI/train_resources'\n",
        "# Input file for training is train_annotation.txt\n",
        "train_filepath = base_filepath+'/train_annotation.txt'\n",
        "train_df = pd.read_csv(train_filepath,header=None,names=['ID','Filepath','XMin','YMin','XMax','YMax','Class'])\n",
        "train_df = train_df.set_index('ID')\n",
        "train_imgs = train_df.index.unique()"
      ],
      "execution_count": 12,
      "outputs": [
        {
          "output_type": "stream",
          "text": [
            "['My Drive', '.Trash']\n"
          ],
          "name": "stdout"
        }
      ]
    },
    {
      "cell_type": "code",
      "metadata": {
        "id": "2tJYpnsh-XYu",
        "colab_type": "code",
        "colab": {}
      },
      "source": [
        "img_height = 600\n",
        "img_width = 800\n",
        "img_depth = 3\n",
        "input_shape = (img_height,img_width,img_depth)\n",
        "\n",
        "def input_tensor(input_shape):\n",
        "  x = Input(shape = input_shape)\n",
        "  return x"
      ],
      "execution_count": 0,
      "outputs": []
    },
    {
      "cell_type": "markdown",
      "metadata": {
        "id": "aWgsGzoj2MaQ",
        "colab_type": "text"
      },
      "source": [
        "## Base Model"
      ]
    },
    {
      "cell_type": "code",
      "metadata": {
        "id": "G5vLawviCqOi",
        "colab_type": "code",
        "colab": {}
      },
      "source": [
        "vgg_ratio = 16"
      ],
      "execution_count": 0,
      "outputs": []
    },
    {
      "cell_type": "code",
      "metadata": {
        "id": "9LpXzRi07eRq",
        "colab_type": "code",
        "colab": {}
      },
      "source": [
        "def vgg16(input_tensor):\n",
        "      \n",
        "    # Block 1\n",
        "    x = Conv2D(64, (3, 3), activation='relu', padding='same', name='block1_conv1')(input_tensor)\n",
        "    x = Conv2D(64, (3, 3), activation='relu', padding='same', name='block1_conv2')(x)\n",
        "    x = MaxPooling2D((2, 2), strides=(2, 2), name='block1_pool')(x)\n",
        "\n",
        "    # Block 2\n",
        "    x = Conv2D(128, (3, 3), activation='relu', padding='same', name='block2_conv1')(x)\n",
        "    x = Conv2D(128, (3, 3), activation='relu', padding='same', name='block2_conv2')(x)\n",
        "    x = MaxPooling2D((2, 2), strides=(2, 2), name='block2_pool')(x)\n",
        "\n",
        "    # Block 3\n",
        "    x = Conv2D(256, (3, 3), activation='relu', padding='same', name='block3_conv1')(x)\n",
        "    x = Conv2D(256, (3, 3), activation='relu', padding='same', name='block3_conv2')(x)\n",
        "    x = Conv2D(256, (3, 3), activation='relu', padding='same', name='block3_conv3')(x)\n",
        "    x = MaxPooling2D((2, 2), strides=(2, 2), name='block3_pool')(x)\n",
        "\n",
        "    # Block 4\n",
        "    x = Conv2D(512, (3, 3), activation='relu', padding='same', name='block4_conv1')(x)\n",
        "    x = Conv2D(512, (3, 3), activation='relu', padding='same', name='block4_conv2')(x)\n",
        "    x = Conv2D(512, (3, 3), activation='relu', padding='same', name='block4_conv3')(x)\n",
        "    x = MaxPooling2D((2, 2), strides=(2, 2), name='block4_pool')(x)\n",
        "\n",
        "    # Block 5\n",
        "    x = Conv2D(512, (3, 3), activation='relu', padding='same', name='block5_conv1')(x)\n",
        "    x = Conv2D(512, (3, 3), activation='relu', padding='same', name='block5_conv2')(x)\n",
        "    x = Conv2D(512, (3, 3), activation='relu', padding='same', name='block5_conv3')(x)\n",
        "\n",
        "    return x"
      ],
      "execution_count": 0,
      "outputs": []
    },
    {
      "cell_type": "code",
      "metadata": {
        "id": "DI2Lo-v3_6Cj",
        "colab_type": "code",
        "colab": {}
      },
      "source": [
        "def get_weights(weights):\n",
        "  return None"
      ],
      "execution_count": 0,
      "outputs": []
    },
    {
      "cell_type": "markdown",
      "metadata": {
        "id": "7-S5Uilc2Pho",
        "colab_type": "text"
      },
      "source": [
        "##RPN"
      ]
    },
    {
      "cell_type": "code",
      "metadata": {
        "id": "Wdt1NYkWAAQi",
        "colab_type": "code",
        "colab": {}
      },
      "source": [
        "rpn_height = img_height/vgg_ratio\n",
        "rpn_width = img_width/vgg_ratio\n",
        "rpn_depth = 512\n",
        "anchors_ratios = [0.5,1,1.5]\n",
        "anchors_size = [64,128,256]\n",
        "anchors_count = len(anchors_ratios) * len(anchors_size)\n",
        "\n",
        "\n",
        "def rpn(x):\n",
        "  \n",
        "  # Mutual Layer\n",
        "  x1 = Conv2D(512,(3,3), activation='relu', padding='same', kernel_initializer='normal', name='rpn_mutual_layer')(x)\n",
        "  \n",
        "  # Classification Layer\n",
        "  x_class = Conv2D(anchors_count, (1,1), activation = 'sigmoid', kernel_initializer = 'uniform', name='rpn_class_layer')(x)\n",
        "  \n",
        "  # Regression Layer\n",
        "  x_reg = Conv2D(4*anchors_count, (1,1), activation='linear', kernel_initializer='zero', name='rpn_reg_layer')(x)\n",
        "  return [x_class,x_reg]"
      ],
      "execution_count": 0,
      "outputs": []
    },
    {
      "cell_type": "code",
      "metadata": {
        "id": "DszTJ_IyWunY",
        "colab_type": "code",
        "colab": {}
      },
      "source": [
        "# Anchors Rep shape is (rpn_height,rpn_width,len(anchors_ratio)*len(anchors),4) stands for xmin,ymin,xmax,ymax\n",
        "def anchors_list(vgg_ratio,rpn_height,rpn_width,anchors_ratios,anchors_size):\n",
        "  anchors = np.zeros((rpn_height,rpn_width,len(anchors_ratios)*len(anchors_size),4))\n",
        "  for i in range(0,rpn_height):\n",
        "    for j in range(0,rpn_width):\n",
        "      k = 0\n",
        "      for ratio in anchors_ratios:\n",
        "        for size in anchors_size:\n",
        "          xcenter = i*vgg_ratio + vgg_ratio/2\n",
        "          ycenter = j*vgg_ratio + vgg_ratio/2\n",
        "          anchors_width = ratio*size\n",
        "          anchors_height = size\n",
        "          xmin = xcenter - anchors_width/2\n",
        "          ymin = ycenter - anchors_height/2\n",
        "          xmax = xcenter + anchors_width/2\n",
        "          ymax = ycenter + anchors_height/2\n",
        "          anchors[i][j][k][0] = xmin\n",
        "          anchors[i][j][k][1] = ymin\n",
        "          anchors[i][j][k][2] = xmax\n",
        "          anchors[i][j][k][3] = ymax\n",
        "          k+=1\n",
        "  return anchors\n",
        "\n",
        "anchors = anchors_list(vgg_ratio,int(rpn_height),int(rpn_width),anchors_ratios,anchors_size)"
      ],
      "execution_count": 0,
      "outputs": []
    },
    {
      "cell_type": "code",
      "metadata": {
        "id": "iCftEwbplbh9",
        "colab_type": "code",
        "colab": {
          "base_uri": "https://localhost:8080/",
          "height": 34
        },
        "outputId": "f7074a06-a49c-4d4c-9c7e-9e2e8743bb9d"
      },
      "source": [
        "# Calculation of IoU for each anchors\n",
        "def anchors_iou(anchors,ground_truth_bboxes):\n",
        "  '''\n",
        "  anchors input parameter is the lsit of anchors returned by anchors_list()\n",
        "  ground_truth_bboxes is the lsit of ground truth bboxes for a giving image. Shape is (?,4) with 4 stands for xmin,ymin,xmax,ymax\n",
        "  '''\n",
        "  maxi = 0\n",
        "  bg = 0\n",
        "  anchors_iou = np.zeros((len(anchors),len(anchors[0]),len(anchors[0][0])))\n",
        "  for i in range(0,len(anchors)):\n",
        "    for j in range(0,len(anchors[i])):\n",
        "      for k in range(0,len(anchors[i][j])):\n",
        "        for bbox in ground_truth_bboxes:\n",
        "          anchors_iou[i][j][k] = max(iou(anchors[i][j][k],bbox),anchors_iou[i][j][k])\n",
        "          if(anchors_iou[i][j][k] > 0.5):\n",
        "            bg+=1\n",
        "  print(bg)\n",
        "  return anchors_iou\n",
        "\n",
        "anchors_with_iou = anchors_iou(anchors,[[0.5*img_width,0.5*img_height,0.8*img_width,0.8*img_height]])"
      ],
      "execution_count": 43,
      "outputs": [
        {
          "output_type": "stream",
          "text": [
            "60\n"
          ],
          "name": "stdout"
        }
      ]
    },
    {
      "cell_type": "markdown",
      "metadata": {
        "id": "cqZt2eDI2SKI",
        "colab_type": "text"
      },
      "source": [
        "##ROI"
      ]
    },
    {
      "cell_type": "code",
      "metadata": {
        "id": "wYEV9LbAZmFo",
        "colab_type": "code",
        "colab": {}
      },
      "source": [
        "class ROIPoolingLayer(Layer):\n",
        "    '''\n",
        "    Input will be : [VGG16 Feature Layers, Proposal]\n",
        "    Shape is [(1,rpn_width,rpn_height,512),(1,x,y,h,w)]\n",
        "    '''\n",
        "    def __init__(self, pooling_size, **kwargs):\n",
        "        \n",
        "        self.pooling_size = pooling_size\n",
        "        \n",
        "        super(ROIPoolingLayer, self).__init__(**kwargs)\n",
        "\n",
        "    def build(self, input_shape):\n",
        "        self.nb_channels = input_shape[0][3]\n",
        "\n",
        "    def call(self, x):\n",
        "        assert len(x) == 2\n",
        "        img = x[0]\n",
        "        roi = x[1]\n",
        "        \n",
        "        x = roi[0,0]\n",
        "        y = roi[0,1]\n",
        "        h = roi[0,2]\n",
        "        w = roi[0,3]\n",
        "        \n",
        "        x = K.cast(x, 'int32')\n",
        "        y = K.cast(y, 'int32')\n",
        "        w = K.cast(w, 'int32')\n",
        "        h = K.cast(h, 'int32')\n",
        "\n",
        "\n",
        "        output = tf.image.resize(img[:, y:y+h, x:x+w, :], (self.pooling_size, self.pooling_size))\n",
        "        output = K.reshape(output , (1, self.pooling_size, self.pooling_size, self.nb_channels))\n",
        "        return output\n",
        "\n",
        "    def compute_output_shape(self, input_shape):\n",
        "        return None, self.pooling_size, self.pooling_size, self.nb_channels"
      ],
      "execution_count": 0,
      "outputs": []
    },
    {
      "cell_type": "markdown",
      "metadata": {
        "id": "jlYNAItP2UUB",
        "colab_type": "text"
      },
      "source": [
        "##R-CNN"
      ]
    },
    {
      "cell_type": "code",
      "metadata": {
        "id": "lpq0yxB9bYBh",
        "colab_type": "code",
        "colab": {}
      },
      "source": [
        "classes_count = 3\n",
        "def rcnn(x):\n",
        "  \n",
        "  # Flatten Layer\n",
        "  x = Flatten()(x)\n",
        "  \n",
        "  # 1st Dense Layer\n",
        "  x = Dense(4096,activation='relu',kernel_initializer='normal', name='rcnn_dense1' )(x)\n",
        "\n",
        "  # 2nd Dense Layer\n",
        "  x = Dense(4096,activation='relu',kernel_initializer='normal', name='rcnn_dense2')(x)\n",
        "  \n",
        "  # Classification Layer\n",
        "  x_class = Dense(classes_count+1, activation = 'softmax', kernel_initializer = 'uniform', name='rcnn_class_layer')(x)\n",
        "  \n",
        "  # Regression Layer\n",
        "  x_reg = Dense(4*classes_count, activation='linear', kernel_initializer='zero', name='rcnn_reg_layer')(x)\n",
        "  \n",
        "  return [x_class,x_reg]"
      ],
      "execution_count": 0,
      "outputs": []
    },
    {
      "cell_type": "code",
      "metadata": {
        "id": "AybLohh1c4U4",
        "colab_type": "code",
        "outputId": "fd3359eb-a754-4210-890f-53f8c8aeba67",
        "colab": {
          "base_uri": "https://localhost:8080/",
          "height": 121
        }
      },
      "source": [
        "input_test = input_tensor(input_shape)\n",
        "vgg16_model = vgg16(input_test)\n",
        "output = rpn(vgg16_model)\n",
        "print(vgg16_model)\n",
        "print(output)\n",
        "output_test = K.reshape(output[1],(1764,4))\n",
        "#output_test = K.squeeze(output_test,axis=0)\n",
        "print(output_test)\n",
        "output = ROIPoolingLayer(7)([vgg16_model,output_test])\n",
        "print(output)\n",
        "output = rcnn(output)\n",
        "print(output)"
      ],
      "execution_count": 21,
      "outputs": [
        {
          "output_type": "stream",
          "text": [
            "Tensor(\"block5_conv3/Identity:0\", shape=(None, 14, 14, 512), dtype=float32)\n",
            "[<tf.Tensor 'rpn_class_layer/Identity:0' shape=(None, 14, 14, 9) dtype=float32>, <tf.Tensor 'rpn_reg_layer/Identity:0' shape=(None, 14, 14, 36) dtype=float32>]\n",
            "Tensor(\"Reshape:0\", shape=(1764, 4), dtype=float32)\n",
            "Tensor(\"roi_pooling_layer/Identity:0\", shape=(1, 7, 7, 512), dtype=float32)\n",
            "[<tf.Tensor 'rcnn_class_layer/Identity:0' shape=(1, 4) dtype=float32>, <tf.Tensor 'rcnn_reg_layer/Identity:0' shape=(1, 12) dtype=float32>]\n"
          ],
          "name": "stdout"
        }
      ]
    }
  ]
}