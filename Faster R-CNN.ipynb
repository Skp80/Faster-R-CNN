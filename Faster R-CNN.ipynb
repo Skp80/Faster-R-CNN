{
  "nbformat": 4,
  "nbformat_minor": 0,
  "metadata": {
    "kernelspec": {
      "display_name": "Python 3",
      "language": "python",
      "name": "python3"
    },
    "language_info": {
      "codemirror_mode": {
        "name": "ipython",
        "version": 3
      },
      "file_extension": ".py",
      "mimetype": "text/x-python",
      "name": "python",
      "nbconvert_exporter": "python",
      "pygments_lexer": "ipython3",
      "version": "3.7.3"
    },
    "colab": {
      "name": "Faster R-CNN.ipynb",
      "provenance": [],
      "toc_visible": true
    }
  },
  "cells": [
    {
      "cell_type": "markdown",
      "metadata": {
        "id": "x0Dn0SmWkikx",
        "colab_type": "text"
      },
      "source": [
        "# Faster R-CNN Implementation"
      ]
    },
    {
      "cell_type": "markdown",
      "metadata": {
        "id": "nvVCrlJX5XD_",
        "colab_type": "text"
      },
      "source": [
        "##Toolbox"
      ]
    },
    {
      "cell_type": "code",
      "metadata": {
        "id": "KrPJBdPBZ-x_",
        "colab_type": "code",
        "colab": {
          "base_uri": "https://localhost:8080/",
          "height": 34
        },
        "outputId": "b84191dd-b66b-4131-b166-889e619ec41d"
      },
      "source": [
        "%tensorflow_version 2.x"
      ],
      "execution_count": 2,
      "outputs": [
        {
          "output_type": "stream",
          "text": [
            "TensorFlow 2.x selected.\n"
          ],
          "name": "stdout"
        }
      ]
    },
    {
      "cell_type": "code",
      "metadata": {
        "id": "5dteJlA58p3n",
        "colab_type": "code",
        "colab": {}
      },
      "source": [
        "from __future__ import absolute_import, division, print_function, unicode_literals\n",
        "import doctest\n",
        "import os\n",
        "\n",
        "import pandas as pd\n",
        "import numpy as np\n",
        "\n",
        "import tensorflow as tf\n",
        "from tensorflow.keras import backend as K\n",
        "from tensorflow.keras.optimizers import Adam, SGD, RMSprop\n",
        "from tensorflow.keras.layers import Flatten, Dense, Input, Conv2D, MaxPooling2D, Dropout, Layer, Concatenate\n",
        "from tensorflow.keras.layers import GlobalAveragePooling2D, GlobalMaxPooling2D, TimeDistributed"
      ],
      "execution_count": 0,
      "outputs": []
    },
    {
      "cell_type": "code",
      "metadata": {
        "id": "8VFTrKjIdH56",
        "colab_type": "code",
        "colab": {
          "base_uri": "https://localhost:8080/",
          "height": 386
        },
        "outputId": "c0b88dfd-78af-4cf9-8966-1b9659eaf99a"
      },
      "source": [
        "doctest.testmod(verbose=True)\n",
        "def iou(bbox1, bbox2):\n",
        "  '''\n",
        "  Bbox format must be [x_min,y_min,x_max,y_max]\n",
        "  >>> iou([10,10,10,10],[5,5,5,5])\n",
        "  0\n",
        "  >>> iou([0,0,4,4],[2,2,4,4])\n",
        "  0.25\n",
        "  >>> iou([0,0,4,4],[2,2,6,6])\n",
        "  0.14285714285714285\n",
        "  '''\n",
        "\n",
        "  xmin_inter = max(bbox1[0],bbox2[0])\n",
        "  ymin_inter = max(bbox1[1],bbox2[1])\n",
        "  xmax_inter = min(bbox1[2],bbox2[2])\n",
        "  ymax_inter = min(bbox1[3],bbox2[3])\n",
        "\n",
        "  width_inter = max(xmax_inter - xmin_inter,0)\n",
        "  height_inter = max(ymax_inter - ymin_inter,0)\n",
        "  if(width_inter == 0 or height_inter == 0):\n",
        "    iou = 0\n",
        "  else:\n",
        "    iou = width_inter*height_inter/((bbox1[2]-bbox1[0])*((bbox1[3]-bbox1[1]))+(bbox2[2]-bbox2[0])*((bbox2[3]-bbox2[1]))-width_inter*height_inter)\n",
        "  return iou\n"
      ],
      "execution_count": 5,
      "outputs": [
        {
          "output_type": "stream",
          "text": [
            "Trying:\n",
            "    iou([10,10,10,10],[5,5,5,5])\n",
            "Expecting:\n",
            "    0\n",
            "ok\n",
            "Trying:\n",
            "    iou([0,0,4,4],[2,2,4,4])\n",
            "Expecting:\n",
            "    0.25\n",
            "ok\n",
            "Trying:\n",
            "    iou([0,0,4,4],[2,2,6,6])\n",
            "Expecting:\n",
            "    0.14285714285714285\n",
            "ok\n",
            "1 items had no tests:\n",
            "    __main__\n",
            "1 items passed all tests:\n",
            "   3 tests in __main__.iou\n",
            "3 tests in 2 items.\n",
            "3 passed and 0 failed.\n",
            "Test passed.\n"
          ],
          "name": "stdout"
        }
      ]
    },
    {
      "cell_type": "markdown",
      "metadata": {
        "id": "cvgFWgVm2FwM",
        "colab_type": "text"
      },
      "source": [
        "##Architecture"
      ]
    },
    {
      "cell_type": "markdown",
      "metadata": {
        "id": "Kv9MqH-v2Io3",
        "colab_type": "text"
      },
      "source": [
        "##Input"
      ]
    },
    {
      "cell_type": "code",
      "metadata": {
        "id": "MG_Ps_0tKL3V",
        "colab_type": "code",
        "colab": {
          "base_uri": "https://localhost:8080/",
          "height": 121
        },
        "outputId": "6acf7093-fd81-4b71-d6d9-09b0bf5a10f6"
      },
      "source": [
        "from google.colab import drive\n",
        "drive.mount('/content/drive')"
      ],
      "execution_count": 6,
      "outputs": [
        {
          "output_type": "stream",
          "text": [
            "Go to this URL in a browser: https://accounts.google.com/o/oauth2/auth?client_id=947318989803-6bn6qk8qdgf4n4g3pfee6491hc0brc4i.apps.googleusercontent.com&redirect_uri=urn%3Aietf%3Awg%3Aoauth%3A2.0%3Aoob&scope=email%20https%3A%2F%2Fwww.googleapis.com%2Fauth%2Fdocs.test%20https%3A%2F%2Fwww.googleapis.com%2Fauth%2Fdrive%20https%3A%2F%2Fwww.googleapis.com%2Fauth%2Fdrive.photos.readonly%20https%3A%2F%2Fwww.googleapis.com%2Fauth%2Fpeopleapi.readonly&response_type=code\n",
            "\n",
            "Enter your authorization code:\n",
            "··········\n",
            "Mounted at /content/drive\n"
          ],
          "name": "stdout"
        }
      ]
    },
    {
      "cell_type": "code",
      "metadata": {
        "id": "Yp4lVor3KHMs",
        "colab_type": "code",
        "colab": {
          "base_uri": "https://localhost:8080/",
          "height": 437
        },
        "outputId": "d2b7fcff-f80f-4fc6-982f-3d10aa126c93"
      },
      "source": [
        "base_filepath = 'drive/My Drive/SoccerAI/train_resources'\n",
        "# Input file for training is train_annotation.txt\n",
        "train_filepath = base_filepath+'/train_annotation.txt'\n",
        "train_df = pd.read_csv(train_filepath,header=None,names=['ID','Filepath','XMin','YMin','XMax','YMax','Class'])\n",
        "train_df = train_df.set_index('ID')\n",
        "train_imgs = train_df.index.unique()"
      ],
      "execution_count": 29,
      "outputs": [
        {
          "output_type": "stream",
          "text": [
            "                                                           Filepath  ...   Class\n",
            "ID                                                                   ...        \n",
            "0006487596052ff0  My Drive/SoccerAI/train_resources/Person/00064...  ...  Person\n",
            "0006487596052ff0  My Drive/SoccerAI/train_resources/Person/00064...  ...  Person\n",
            "0006487596052ff0  My Drive/SoccerAI/train_resources/Person/00064...  ...  Person\n",
            "0006487596052ff0  My Drive/SoccerAI/train_resources/Person/00064...  ...  Person\n",
            "0006487596052ff0  My Drive/SoccerAI/train_resources/Person/00064...  ...  Person\n",
            "0006487596052ff0  My Drive/SoccerAI/train_resources/Person/00064...  ...  Person\n",
            "0006487596052ff0  My Drive/SoccerAI/train_resources/Person/00064...  ...  Person\n",
            "0006487596052ff0  My Drive/SoccerAI/train_resources/Person/00064...  ...  Person\n",
            "0006487596052ff0  My Drive/SoccerAI/train_resources/Person/00064...  ...  Person\n",
            "0006487596052ff0  My Drive/SoccerAI/train_resources/Person/00064...  ...  Person\n",
            "0006487596052ff0  My Drive/SoccerAI/train_resources/Person/00064...  ...  Person\n",
            "\n",
            "[11 rows x 6 columns]\n",
            "Index(['00061d30b2965c3e', '00061f49c4d2c9e6', '0006289e4f292bcd',\n",
            "       '0006400c1c224e19', '0006487596052ff0', '0006567209c36aae',\n",
            "       '00065e3d353618a3', '00066f31bb611c49', '00067055f85b8c37',\n",
            "       '0006749903eafca7',\n",
            "       ...\n",
            "       '2df3aa513c8aac52', '2e0c6b7488a37c46', '2e0d53b236ec1ccd',\n",
            "       '2e33c676809f555f', '2e49d4d59abe602c', '2e555a3fe4a351b0',\n",
            "       '2e5f0e9e14000c49', '2e743748455f65eb', '2e752047cf8a6171',\n",
            "       '2e841a94c2b80775'],\n",
            "      dtype='object', name='ID', length=1506)\n"
          ],
          "name": "stdout"
        }
      ]
    },
    {
      "cell_type": "code",
      "metadata": {
        "id": "2tJYpnsh-XYu",
        "colab_type": "code",
        "colab": {}
      },
      "source": [
        "img_height = 224\n",
        "img_width = 224\n",
        "img_depth = 3\n",
        "input_shape = (img_height,img_width,img_depth)\n",
        "\n",
        "def input_tensor(input_shape):\n",
        "  x = Input(shape = input_shape)\n",
        "  return x"
      ],
      "execution_count": 0,
      "outputs": []
    },
    {
      "cell_type": "markdown",
      "metadata": {
        "id": "aWgsGzoj2MaQ",
        "colab_type": "text"
      },
      "source": [
        "## Base Model"
      ]
    },
    {
      "cell_type": "code",
      "metadata": {
        "id": "G5vLawviCqOi",
        "colab_type": "code",
        "colab": {}
      },
      "source": [
        "vgg_ratio = 16"
      ],
      "execution_count": 0,
      "outputs": []
    },
    {
      "cell_type": "code",
      "metadata": {
        "id": "9LpXzRi07eRq",
        "colab_type": "code",
        "colab": {}
      },
      "source": [
        "def vgg16(input_tensor):\n",
        "      \n",
        "    # Block 1\n",
        "    x = Conv2D(64, (3, 3), activation='relu', padding='same', name='block1_conv1')(input_tensor)\n",
        "    x = Conv2D(64, (3, 3), activation='relu', padding='same', name='block1_conv2')(x)\n",
        "    x = MaxPooling2D((2, 2), strides=(2, 2), name='block1_pool')(x)\n",
        "\n",
        "    # Block 2\n",
        "    x = Conv2D(128, (3, 3), activation='relu', padding='same', name='block2_conv1')(x)\n",
        "    x = Conv2D(128, (3, 3), activation='relu', padding='same', name='block2_conv2')(x)\n",
        "    x = MaxPooling2D((2, 2), strides=(2, 2), name='block2_pool')(x)\n",
        "\n",
        "    # Block 3\n",
        "    x = Conv2D(256, (3, 3), activation='relu', padding='same', name='block3_conv1')(x)\n",
        "    x = Conv2D(256, (3, 3), activation='relu', padding='same', name='block3_conv2')(x)\n",
        "    x = Conv2D(256, (3, 3), activation='relu', padding='same', name='block3_conv3')(x)\n",
        "    x = MaxPooling2D((2, 2), strides=(2, 2), name='block3_pool')(x)\n",
        "\n",
        "    # Block 4\n",
        "    x = Conv2D(512, (3, 3), activation='relu', padding='same', name='block4_conv1')(x)\n",
        "    x = Conv2D(512, (3, 3), activation='relu', padding='same', name='block4_conv2')(x)\n",
        "    x = Conv2D(512, (3, 3), activation='relu', padding='same', name='block4_conv3')(x)\n",
        "    x = MaxPooling2D((2, 2), strides=(2, 2), name='block4_pool')(x)\n",
        "\n",
        "    # Block 5\n",
        "    x = Conv2D(512, (3, 3), activation='relu', padding='same', name='block5_conv1')(x)\n",
        "    x = Conv2D(512, (3, 3), activation='relu', padding='same', name='block5_conv2')(x)\n",
        "    x = Conv2D(512, (3, 3), activation='relu', padding='same', name='block5_conv3')(x)\n",
        "\n",
        "    return x"
      ],
      "execution_count": 0,
      "outputs": []
    },
    {
      "cell_type": "code",
      "metadata": {
        "id": "DI2Lo-v3_6Cj",
        "colab_type": "code",
        "colab": {}
      },
      "source": [
        "def get_weights(weights):\n",
        "  return None"
      ],
      "execution_count": 0,
      "outputs": []
    },
    {
      "cell_type": "markdown",
      "metadata": {
        "id": "7-S5Uilc2Pho",
        "colab_type": "text"
      },
      "source": [
        "##RPN"
      ]
    },
    {
      "cell_type": "code",
      "metadata": {
        "id": "Wdt1NYkWAAQi",
        "colab_type": "code",
        "colab": {}
      },
      "source": [
        "rpn_height = img_height/vgg_ratio\n",
        "rpn_width = img_width/vgg_ratio\n",
        "rpn_depth = 512\n",
        "anchors_ratios = [0.5,1,1.5]\n",
        "anchors_size = [64,128,256]\n",
        "anchors_count = len(anchors_ratios) * len(anchors_size)\n",
        "\n",
        "\n",
        "def rpn(x):\n",
        "  \n",
        "  # Mutual Layer\n",
        "  x1 = Conv2D(512,(3,3), activation='relu', padding='same', kernel_initializer='normal', name='rpn_mutual_layer')(x)\n",
        "  \n",
        "  # Classification Layer\n",
        "  x_class = Conv2D(anchors_count, (1,1), activation = 'sigmoid', kernel_initializer = 'uniform', name='rpn_class_layer')(x)\n",
        "  \n",
        "  # Regression Layer\n",
        "  x_reg = Conv2D(4*anchors_count, (1,1), activation='linear', kernel_initializer='zero', name='rpn_reg_layer')(x)\n",
        "  return [x_class,x_reg]"
      ],
      "execution_count": 0,
      "outputs": []
    },
    {
      "cell_type": "code",
      "metadata": {
        "id": "DszTJ_IyWunY",
        "colab_type": "code",
        "colab": {
          "base_uri": "https://localhost:8080/",
          "height": 1000
        },
        "outputId": "e6d32f11-0cd4-4ff0-bba5-f3dd9a705f8c"
      },
      "source": [
        "# Anchors Rep shape is (rpn_height,rpn_width,len(anchors_ratio)*len(anchors),4) stands for xmin,ymin,xmax,ymax\n",
        "def anchors_list(vgg_ratio,rpn_height,rpn_width,anchors_ratios,anchors_size):\n",
        "  anchors = np.zeros((rpn_height,rpn_width,len(anchors_ratios)*len(anchors_size),4))\n",
        "  for i in range(0,rpn_height):\n",
        "    for j in range(0,rpn_width):\n",
        "      k = 0\n",
        "      for ratio in anchors_ratios:\n",
        "        for size in anchors_size:\n",
        "          xcenter = i*vgg_ratio + vgg_ratio/2\n",
        "          ycenter = j*vgg_ratio + vgg_ratio/2\n",
        "          anchors_width = ratio*size\n",
        "          anchors_height = size\n",
        "          xmin = xcenter - anchors_width/2\n",
        "          ymin = ycenter - anchors_height/2\n",
        "          xmax = xcenter + anchors_width/2\n",
        "          ymax = ycenter + anchors_height/2\n",
        "          anchors[i][j][k][0] = xmin\n",
        "          anchors[i][j][k][1] = ymin\n",
        "          anchors[i][j][k][2] = xmax\n",
        "          anchors[i][j][k][3] = ymax\n",
        "          k+=1\n",
        "  return anchors\n",
        "\n",
        "anchors = anchors_list(vgg_ratio,int(rpn_height),int(rpn_width),anchors_ratios,anchors_size)\n",
        "print(anchors)"
      ],
      "execution_count": 43,
      "outputs": [
        {
          "output_type": "stream",
          "text": [
            "[[[[  -8.  -24.   24.   40.]\n",
            "   [ -24.  -56.   40.   72.]\n",
            "   [ -56. -120.   72.  136.]\n",
            "   ...\n",
            "   [ -40.  -24.   56.   40.]\n",
            "   [ -88.  -56.  104.   72.]\n",
            "   [-184. -120.  200.  136.]]\n",
            "\n",
            "  [[  -8.   -8.   24.   56.]\n",
            "   [ -24.  -40.   40.   88.]\n",
            "   [ -56. -104.   72.  152.]\n",
            "   ...\n",
            "   [ -40.   -8.   56.   56.]\n",
            "   [ -88.  -40.  104.   88.]\n",
            "   [-184. -104.  200.  152.]]\n",
            "\n",
            "  [[  -8.    8.   24.   72.]\n",
            "   [ -24.  -24.   40.  104.]\n",
            "   [ -56.  -88.   72.  168.]\n",
            "   ...\n",
            "   [ -40.    8.   56.   72.]\n",
            "   [ -88.  -24.  104.  104.]\n",
            "   [-184.  -88.  200.  168.]]\n",
            "\n",
            "  ...\n",
            "\n",
            "  [[  -8.  152.   24.  216.]\n",
            "   [ -24.  120.   40.  248.]\n",
            "   [ -56.   56.   72.  312.]\n",
            "   ...\n",
            "   [ -40.  152.   56.  216.]\n",
            "   [ -88.  120.  104.  248.]\n",
            "   [-184.   56.  200.  312.]]\n",
            "\n",
            "  [[  -8.  168.   24.  232.]\n",
            "   [ -24.  136.   40.  264.]\n",
            "   [ -56.   72.   72.  328.]\n",
            "   ...\n",
            "   [ -40.  168.   56.  232.]\n",
            "   [ -88.  136.  104.  264.]\n",
            "   [-184.   72.  200.  328.]]\n",
            "\n",
            "  [[  -8.  184.   24.  248.]\n",
            "   [ -24.  152.   40.  280.]\n",
            "   [ -56.   88.   72.  344.]\n",
            "   ...\n",
            "   [ -40.  184.   56.  248.]\n",
            "   [ -88.  152.  104.  280.]\n",
            "   [-184.   88.  200.  344.]]]\n",
            "\n",
            "\n",
            " [[[   8.  -24.   40.   40.]\n",
            "   [  -8.  -56.   56.   72.]\n",
            "   [ -40. -120.   88.  136.]\n",
            "   ...\n",
            "   [ -24.  -24.   72.   40.]\n",
            "   [ -72.  -56.  120.   72.]\n",
            "   [-168. -120.  216.  136.]]\n",
            "\n",
            "  [[   8.   -8.   40.   56.]\n",
            "   [  -8.  -40.   56.   88.]\n",
            "   [ -40. -104.   88.  152.]\n",
            "   ...\n",
            "   [ -24.   -8.   72.   56.]\n",
            "   [ -72.  -40.  120.   88.]\n",
            "   [-168. -104.  216.  152.]]\n",
            "\n",
            "  [[   8.    8.   40.   72.]\n",
            "   [  -8.  -24.   56.  104.]\n",
            "   [ -40.  -88.   88.  168.]\n",
            "   ...\n",
            "   [ -24.    8.   72.   72.]\n",
            "   [ -72.  -24.  120.  104.]\n",
            "   [-168.  -88.  216.  168.]]\n",
            "\n",
            "  ...\n",
            "\n",
            "  [[   8.  152.   40.  216.]\n",
            "   [  -8.  120.   56.  248.]\n",
            "   [ -40.   56.   88.  312.]\n",
            "   ...\n",
            "   [ -24.  152.   72.  216.]\n",
            "   [ -72.  120.  120.  248.]\n",
            "   [-168.   56.  216.  312.]]\n",
            "\n",
            "  [[   8.  168.   40.  232.]\n",
            "   [  -8.  136.   56.  264.]\n",
            "   [ -40.   72.   88.  328.]\n",
            "   ...\n",
            "   [ -24.  168.   72.  232.]\n",
            "   [ -72.  136.  120.  264.]\n",
            "   [-168.   72.  216.  328.]]\n",
            "\n",
            "  [[   8.  184.   40.  248.]\n",
            "   [  -8.  152.   56.  280.]\n",
            "   [ -40.   88.   88.  344.]\n",
            "   ...\n",
            "   [ -24.  184.   72.  248.]\n",
            "   [ -72.  152.  120.  280.]\n",
            "   [-168.   88.  216.  344.]]]\n",
            "\n",
            "\n",
            " [[[  24.  -24.   56.   40.]\n",
            "   [   8.  -56.   72.   72.]\n",
            "   [ -24. -120.  104.  136.]\n",
            "   ...\n",
            "   [  -8.  -24.   88.   40.]\n",
            "   [ -56.  -56.  136.   72.]\n",
            "   [-152. -120.  232.  136.]]\n",
            "\n",
            "  [[  24.   -8.   56.   56.]\n",
            "   [   8.  -40.   72.   88.]\n",
            "   [ -24. -104.  104.  152.]\n",
            "   ...\n",
            "   [  -8.   -8.   88.   56.]\n",
            "   [ -56.  -40.  136.   88.]\n",
            "   [-152. -104.  232.  152.]]\n",
            "\n",
            "  [[  24.    8.   56.   72.]\n",
            "   [   8.  -24.   72.  104.]\n",
            "   [ -24.  -88.  104.  168.]\n",
            "   ...\n",
            "   [  -8.    8.   88.   72.]\n",
            "   [ -56.  -24.  136.  104.]\n",
            "   [-152.  -88.  232.  168.]]\n",
            "\n",
            "  ...\n",
            "\n",
            "  [[  24.  152.   56.  216.]\n",
            "   [   8.  120.   72.  248.]\n",
            "   [ -24.   56.  104.  312.]\n",
            "   ...\n",
            "   [  -8.  152.   88.  216.]\n",
            "   [ -56.  120.  136.  248.]\n",
            "   [-152.   56.  232.  312.]]\n",
            "\n",
            "  [[  24.  168.   56.  232.]\n",
            "   [   8.  136.   72.  264.]\n",
            "   [ -24.   72.  104.  328.]\n",
            "   ...\n",
            "   [  -8.  168.   88.  232.]\n",
            "   [ -56.  136.  136.  264.]\n",
            "   [-152.   72.  232.  328.]]\n",
            "\n",
            "  [[  24.  184.   56.  248.]\n",
            "   [   8.  152.   72.  280.]\n",
            "   [ -24.   88.  104.  344.]\n",
            "   ...\n",
            "   [  -8.  184.   88.  248.]\n",
            "   [ -56.  152.  136.  280.]\n",
            "   [-152.   88.  232.  344.]]]\n",
            "\n",
            "\n",
            " ...\n",
            "\n",
            "\n",
            " [[[ 168.  -24.  200.   40.]\n",
            "   [ 152.  -56.  216.   72.]\n",
            "   [ 120. -120.  248.  136.]\n",
            "   ...\n",
            "   [ 136.  -24.  232.   40.]\n",
            "   [  88.  -56.  280.   72.]\n",
            "   [  -8. -120.  376.  136.]]\n",
            "\n",
            "  [[ 168.   -8.  200.   56.]\n",
            "   [ 152.  -40.  216.   88.]\n",
            "   [ 120. -104.  248.  152.]\n",
            "   ...\n",
            "   [ 136.   -8.  232.   56.]\n",
            "   [  88.  -40.  280.   88.]\n",
            "   [  -8. -104.  376.  152.]]\n",
            "\n",
            "  [[ 168.    8.  200.   72.]\n",
            "   [ 152.  -24.  216.  104.]\n",
            "   [ 120.  -88.  248.  168.]\n",
            "   ...\n",
            "   [ 136.    8.  232.   72.]\n",
            "   [  88.  -24.  280.  104.]\n",
            "   [  -8.  -88.  376.  168.]]\n",
            "\n",
            "  ...\n",
            "\n",
            "  [[ 168.  152.  200.  216.]\n",
            "   [ 152.  120.  216.  248.]\n",
            "   [ 120.   56.  248.  312.]\n",
            "   ...\n",
            "   [ 136.  152.  232.  216.]\n",
            "   [  88.  120.  280.  248.]\n",
            "   [  -8.   56.  376.  312.]]\n",
            "\n",
            "  [[ 168.  168.  200.  232.]\n",
            "   [ 152.  136.  216.  264.]\n",
            "   [ 120.   72.  248.  328.]\n",
            "   ...\n",
            "   [ 136.  168.  232.  232.]\n",
            "   [  88.  136.  280.  264.]\n",
            "   [  -8.   72.  376.  328.]]\n",
            "\n",
            "  [[ 168.  184.  200.  248.]\n",
            "   [ 152.  152.  216.  280.]\n",
            "   [ 120.   88.  248.  344.]\n",
            "   ...\n",
            "   [ 136.  184.  232.  248.]\n",
            "   [  88.  152.  280.  280.]\n",
            "   [  -8.   88.  376.  344.]]]\n",
            "\n",
            "\n",
            " [[[ 184.  -24.  216.   40.]\n",
            "   [ 168.  -56.  232.   72.]\n",
            "   [ 136. -120.  264.  136.]\n",
            "   ...\n",
            "   [ 152.  -24.  248.   40.]\n",
            "   [ 104.  -56.  296.   72.]\n",
            "   [   8. -120.  392.  136.]]\n",
            "\n",
            "  [[ 184.   -8.  216.   56.]\n",
            "   [ 168.  -40.  232.   88.]\n",
            "   [ 136. -104.  264.  152.]\n",
            "   ...\n",
            "   [ 152.   -8.  248.   56.]\n",
            "   [ 104.  -40.  296.   88.]\n",
            "   [   8. -104.  392.  152.]]\n",
            "\n",
            "  [[ 184.    8.  216.   72.]\n",
            "   [ 168.  -24.  232.  104.]\n",
            "   [ 136.  -88.  264.  168.]\n",
            "   ...\n",
            "   [ 152.    8.  248.   72.]\n",
            "   [ 104.  -24.  296.  104.]\n",
            "   [   8.  -88.  392.  168.]]\n",
            "\n",
            "  ...\n",
            "\n",
            "  [[ 184.  152.  216.  216.]\n",
            "   [ 168.  120.  232.  248.]\n",
            "   [ 136.   56.  264.  312.]\n",
            "   ...\n",
            "   [ 152.  152.  248.  216.]\n",
            "   [ 104.  120.  296.  248.]\n",
            "   [   8.   56.  392.  312.]]\n",
            "\n",
            "  [[ 184.  168.  216.  232.]\n",
            "   [ 168.  136.  232.  264.]\n",
            "   [ 136.   72.  264.  328.]\n",
            "   ...\n",
            "   [ 152.  168.  248.  232.]\n",
            "   [ 104.  136.  296.  264.]\n",
            "   [   8.   72.  392.  328.]]\n",
            "\n",
            "  [[ 184.  184.  216.  248.]\n",
            "   [ 168.  152.  232.  280.]\n",
            "   [ 136.   88.  264.  344.]\n",
            "   ...\n",
            "   [ 152.  184.  248.  248.]\n",
            "   [ 104.  152.  296.  280.]\n",
            "   [   8.   88.  392.  344.]]]\n",
            "\n",
            "\n",
            " [[[ 200.  -24.  232.   40.]\n",
            "   [ 184.  -56.  248.   72.]\n",
            "   [ 152. -120.  280.  136.]\n",
            "   ...\n",
            "   [ 168.  -24.  264.   40.]\n",
            "   [ 120.  -56.  312.   72.]\n",
            "   [  24. -120.  408.  136.]]\n",
            "\n",
            "  [[ 200.   -8.  232.   56.]\n",
            "   [ 184.  -40.  248.   88.]\n",
            "   [ 152. -104.  280.  152.]\n",
            "   ...\n",
            "   [ 168.   -8.  264.   56.]\n",
            "   [ 120.  -40.  312.   88.]\n",
            "   [  24. -104.  408.  152.]]\n",
            "\n",
            "  [[ 200.    8.  232.   72.]\n",
            "   [ 184.  -24.  248.  104.]\n",
            "   [ 152.  -88.  280.  168.]\n",
            "   ...\n",
            "   [ 168.    8.  264.   72.]\n",
            "   [ 120.  -24.  312.  104.]\n",
            "   [  24.  -88.  408.  168.]]\n",
            "\n",
            "  ...\n",
            "\n",
            "  [[ 200.  152.  232.  216.]\n",
            "   [ 184.  120.  248.  248.]\n",
            "   [ 152.   56.  280.  312.]\n",
            "   ...\n",
            "   [ 168.  152.  264.  216.]\n",
            "   [ 120.  120.  312.  248.]\n",
            "   [  24.   56.  408.  312.]]\n",
            "\n",
            "  [[ 200.  168.  232.  232.]\n",
            "   [ 184.  136.  248.  264.]\n",
            "   [ 152.   72.  280.  328.]\n",
            "   ...\n",
            "   [ 168.  168.  264.  232.]\n",
            "   [ 120.  136.  312.  264.]\n",
            "   [  24.   72.  408.  328.]]\n",
            "\n",
            "  [[ 200.  184.  232.  248.]\n",
            "   [ 184.  152.  248.  280.]\n",
            "   [ 152.   88.  280.  344.]\n",
            "   ...\n",
            "   [ 168.  184.  264.  248.]\n",
            "   [ 120.  152.  312.  280.]\n",
            "   [  24.   88.  408.  344.]]]]\n"
          ],
          "name": "stdout"
        }
      ]
    },
    {
      "cell_type": "markdown",
      "metadata": {
        "id": "cqZt2eDI2SKI",
        "colab_type": "text"
      },
      "source": [
        "##ROI"
      ]
    },
    {
      "cell_type": "code",
      "metadata": {
        "id": "wYEV9LbAZmFo",
        "colab_type": "code",
        "colab": {}
      },
      "source": [
        "class ROIPoolingLayer(Layer):\n",
        "    '''\n",
        "    Input will be : [VGG16 Feature Layers, Proposal]\n",
        "    Shape is [(1,rpn_width,rpn_height,512),(1,x,y,h,w)]\n",
        "    '''\n",
        "    def __init__(self, pooling_size, **kwargs):\n",
        "        \n",
        "        self.pooling_size = pooling_size\n",
        "        \n",
        "        super(ROIPoolingLayer, self).__init__(**kwargs)\n",
        "\n",
        "    def build(self, input_shape):\n",
        "        self.nb_channels = input_shape[0][3]\n",
        "\n",
        "    def call(self, x):\n",
        "        assert len(x) == 2\n",
        "        img = x[0]\n",
        "        roi = x[1]\n",
        "        \n",
        "        x = roi[0,0]\n",
        "        y = roi[0,1]\n",
        "        h = roi[0,2]\n",
        "        w = roi[0,3]\n",
        "        \n",
        "        x = K.cast(x, 'int32')\n",
        "        y = K.cast(y, 'int32')\n",
        "        w = K.cast(w, 'int32')\n",
        "        h = K.cast(h, 'int32')\n",
        "\n",
        "\n",
        "        output = tf.image.resize(img[:, y:y+h, x:x+w, :], (self.pooling_size, self.pooling_size))\n",
        "        output = K.reshape(output , (1, self.pooling_size, self.pooling_size, self.nb_channels))\n",
        "        return output\n",
        "\n",
        "    def compute_output_shape(self, input_shape):\n",
        "        return None, self.pooling_size, self.pooling_size, self.nb_channels"
      ],
      "execution_count": 0,
      "outputs": []
    },
    {
      "cell_type": "markdown",
      "metadata": {
        "id": "jlYNAItP2UUB",
        "colab_type": "text"
      },
      "source": [
        "##R-CNN"
      ]
    },
    {
      "cell_type": "code",
      "metadata": {
        "id": "lpq0yxB9bYBh",
        "colab_type": "code",
        "colab": {}
      },
      "source": [
        "classes_count = 3\n",
        "def rcnn(x):\n",
        "  \n",
        "  # Flatten Layer\n",
        "  x = Flatten()(x)\n",
        "  \n",
        "  # 1st Dense Layer\n",
        "  x = Dense(4096,activation='relu',kernel_initializer='normal', name='rcnn_dense1' )(x)\n",
        "\n",
        "  # 2nd Dense Layer\n",
        "  x = Dense(4096,activation='relu',kernel_initializer='normal', name='rcnn_dense2')(x)\n",
        "  \n",
        "  # Classification Layer\n",
        "  x_class = Dense(classes_count+1, activation = 'softmax', kernel_initializer = 'uniform', name='rcnn_class_layer')(x)\n",
        "  \n",
        "  # Regression Layer\n",
        "  x_reg = Dense(4*classes_count, activation='linear', kernel_initializer='zero', name='rcnn_reg_layer')(x)\n",
        "  \n",
        "  return [x_class,x_reg]"
      ],
      "execution_count": 0,
      "outputs": []
    },
    {
      "cell_type": "code",
      "metadata": {
        "id": "AybLohh1c4U4",
        "colab_type": "code",
        "colab": {
          "base_uri": "https://localhost:8080/",
          "height": 272
        },
        "outputId": "6c846e68-f038-49d1-fccf-e3fda898b282"
      },
      "source": [
        "input_test = input_tensor(input_shape)\n",
        "vgg16_model = vgg16(input_test)\n",
        "output = rpn(vgg16_model)\n",
        "print(vgg16_model)\n",
        "print(output)\n",
        "output_test = K.reshape(output[1],(1764,4))\n",
        "#output_test = K.squeeze(output_test,axis=0)\n",
        "print(output_test)\n",
        "output = ROIPoolingLayer(7)([vgg16_model,output_test])\n",
        "print(output)\n",
        "output = rcnn(output)\n",
        "print(output)"
      ],
      "execution_count": 30,
      "outputs": [
        {
          "output_type": "stream",
          "text": [
            "WARNING:tensorflow:From /usr/local/lib/python3.6/dist-packages/tensorflow_core/python/ops/resource_variable_ops.py:1630: calling BaseResourceVariable.__init__ (from tensorflow.python.ops.resource_variable_ops) with constraint is deprecated and will be removed in a future version.\n",
            "Instructions for updating:\n",
            "If using Keras pass *_constraint arguments to layers.\n",
            "WARNING:tensorflow:From /usr/local/lib/python3.6/dist-packages/tensorflow_core/python/keras/initializers.py:143: calling RandomNormal.__init__ (from tensorflow.python.ops.init_ops) with dtype is deprecated and will be removed in a future version.\n",
            "Instructions for updating:\n",
            "Call initializer instance with the dtype argument instead of passing it to the constructor\n",
            "WARNING:tensorflow:From /usr/local/lib/python3.6/dist-packages/tensorflow_core/python/keras/initializers.py:119: calling RandomUniform.__init__ (from tensorflow.python.ops.init_ops) with dtype is deprecated and will be removed in a future version.\n",
            "Instructions for updating:\n",
            "Call initializer instance with the dtype argument instead of passing it to the constructor\n",
            "Tensor(\"block5_conv3/Relu:0\", shape=(?, 14, 14, 512), dtype=float32)\n",
            "[<tf.Tensor 'rpn_class_layer/Sigmoid:0' shape=(?, 14, 14, 9) dtype=float32>, <tf.Tensor 'rpn_reg_layer/BiasAdd:0' shape=(?, 14, 14, 36) dtype=float32>]\n",
            "Tensor(\"Reshape:0\", shape=(1764, 4), dtype=float32)\n",
            "Tensor(\"roi_pooling_layer/Reshape:0\", shape=(1, 7, 7, 512), dtype=float32)\n",
            "[<tf.Tensor 'rcnn_class_layer/Softmax:0' shape=(1, 4) dtype=float32>, <tf.Tensor 'rcnn_reg_layer/BiasAdd:0' shape=(1, 12) dtype=float32>]\n"
          ],
          "name": "stdout"
        }
      ]
    }
  ]
}