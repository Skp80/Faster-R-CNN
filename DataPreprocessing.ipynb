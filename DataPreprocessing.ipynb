{
  "nbformat": 4,
  "nbformat_minor": 0,
  "metadata": {
    "kernelspec": {
      "display_name": "Python 3",
      "language": "python",
      "name": "python3"
    },
    "language_info": {
      "codemirror_mode": {
        "name": "ipython",
        "version": 3
      },
      "file_extension": ".py",
      "mimetype": "text/x-python",
      "name": "python",
      "nbconvert_exporter": "python",
      "pygments_lexer": "ipython3",
      "version": "3.7.3"
    },
    "colab": {
      "name": "DataPreprocessing.ipynb",
      "provenance": [],
      "toc_visible": true
    }
  },
  "cells": [
    {
      "cell_type": "markdown",
      "metadata": {
        "id": "Ji4eRwd0L6u9",
        "colab_type": "text"
      },
      "source": [
        "# Data Preprocessing"
      ]
    },
    {
      "cell_type": "markdown",
      "metadata": {
        "id": "6jg-IFGMoWMo",
        "colab_type": "text"
      },
      "source": [
        "## Imports"
      ]
    },
    {
      "cell_type": "code",
      "metadata": {
        "id": "Oq-4N1HVL6u_",
        "colab_type": "code",
        "colab": {}
      },
      "source": [
        "import pandas as pd\n",
        "from skimage import io,color\n",
        "from matplotlib import pyplot as plt\n",
        "import cv2\n",
        "import os\n",
        "import numpy as np"
      ],
      "execution_count": 0,
      "outputs": []
    },
    {
      "cell_type": "markdown",
      "metadata": {
        "id": "Z5a72cz2oYty",
        "colab_type": "text"
      },
      "source": [
        "## Connect to GDrive"
      ]
    },
    {
      "cell_type": "code",
      "metadata": {
        "id": "1uyu0pGnmG2x",
        "colab_type": "code",
        "colab": {
          "base_uri": "https://localhost:8080/",
          "height": 50
        },
        "outputId": "7e9f805f-a81b-4c45-cdc6-35cb2b44c738"
      },
      "source": [
        "from google.colab import drive\n",
        "drive.mount('/gdrive')\n",
        "%cd /gdrive"
      ],
      "execution_count": 9,
      "outputs": [
        {
          "output_type": "stream",
          "text": [
            "Drive already mounted at /gdrive; to attempt to forcibly remount, call drive.mount(\"/gdrive\", force_remount=True).\n",
            "/gdrive\n"
          ],
          "name": "stdout"
        }
      ]
    },
    {
      "cell_type": "markdown",
      "metadata": {
        "id": "xTKkBM-Mocr6",
        "colab_type": "text"
      },
      "source": [
        "## Core Code"
      ]
    },
    {
      "cell_type": "code",
      "metadata": {
        "id": "Uyhd-DSJmUXI",
        "colab_type": "code",
        "colab": {}
      },
      "source": [
        "# Resources path\n",
        "base_filepath = 'My Drive/SoccerAI/train_resources'\n",
        "class_description_file = 'class-descriptions-boxable.csv'\n",
        "labeled_bbox_file = 'train-annotations-bbox.csv'\n",
        "train_image_file = 'train-images-boxable-with-rotation.csv'"
      ],
      "execution_count": 0,
      "outputs": []
    },
    {
      "cell_type": "code",
      "metadata": {
        "id": "EtowTSKGoj73",
        "colab_type": "code",
        "colab": {}
      },
      "source": [
        "\n",
        "# Classes df lists the Classes available\n",
        "classes_df = pd.read_csv(base_filepath+'/'+class_description_file,header=None,names=['id','label'])\n",
        "\n",
        "# labeled bbox df contains the labeled data : IMG ID + BBox coordinates\n",
        "labeled_bbox_df = pd.read_csv(base_filepath+'/'+labeled_bbox_file)\n",
        "\n",
        "# Train image df contains images + Metadata (Author, URL, Title ...)\n",
        "train_image_df = pd.read_csv(base_filepath+'/'+train_image_file)"
      ],
      "execution_count": 0,
      "outputs": []
    },
    {
      "cell_type": "code",
      "metadata": {
        "id": "JTwFFPcMpJ1G",
        "colab_type": "code",
        "colab": {
          "base_uri": "https://localhost:8080/",
          "height": 34
        },
        "outputId": "865d567d-c639-4ed2-823d-311751b78a50"
      },
      "source": [
        "# We are just interested in Football & Person classes\n",
        "classes_of_interest = ['Person','Football']\n",
        "classes_label = {}\n",
        "for class_of_interest in classes_of_interest:\n",
        "  class_label = classes_df[classes_df['label']==class_of_interest]['id'].values[0]\n",
        "  classes_label.update({class_of_interest:class_label})\n",
        "\n",
        "print(classes_label)"
      ],
      "execution_count": 28,
      "outputs": [
        {
          "output_type": "stream",
          "text": [
            "{'Person': '/m/01g317', 'Football': '/m/01226z'}\n"
          ],
          "name": "stdout"
        }
      ]
    }
  ]
}