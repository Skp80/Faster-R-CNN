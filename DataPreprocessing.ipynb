{
  "nbformat": 4,
  "nbformat_minor": 0,
  "metadata": {
    "kernelspec": {
      "display_name": "Python 3",
      "language": "python",
      "name": "python3"
    },
    "language_info": {
      "codemirror_mode": {
        "name": "ipython",
        "version": 3
      },
      "file_extension": ".py",
      "mimetype": "text/x-python",
      "name": "python",
      "nbconvert_exporter": "python",
      "pygments_lexer": "ipython3",
      "version": "3.7.3"
    },
    "colab": {
      "name": "DataPreprocessing.ipynb",
      "provenance": [],
      "toc_visible": true
    }
  },
  "cells": [
    {
      "cell_type": "markdown",
      "metadata": {
        "id": "Ji4eRwd0L6u9",
        "colab_type": "text"
      },
      "source": [
        "# Data Preprocessing"
      ]
    },
    {
      "cell_type": "markdown",
      "metadata": {
        "id": "6jg-IFGMoWMo",
        "colab_type": "text"
      },
      "source": [
        "## Imports"
      ]
    },
    {
      "cell_type": "code",
      "metadata": {
        "id": "Oq-4N1HVL6u_",
        "colab_type": "code",
        "colab": {}
      },
      "source": [
        "import pandas as pd\n",
        "from skimage import io,color\n",
        "from matplotlib import pyplot as plt\n",
        "import cv2\n",
        "import os\n",
        "import numpy as np"
      ],
      "execution_count": 0,
      "outputs": []
    },
    {
      "cell_type": "markdown",
      "metadata": {
        "id": "Z5a72cz2oYty",
        "colab_type": "text"
      },
      "source": [
        "## Connect to GDrive"
      ]
    },
    {
      "cell_type": "code",
      "metadata": {
        "id": "1uyu0pGnmG2x",
        "colab_type": "code",
        "colab": {
          "base_uri": "https://localhost:8080/",
          "height": 50
        },
        "outputId": "716071ac-3094-4b8c-ddf5-4a3bef1628c6"
      },
      "source": [
        "from google.colab import drive\n",
        "drive.mount('/gdrive')\n",
        "%cd /gdrive"
      ],
      "execution_count": 3,
      "outputs": [
        {
          "output_type": "stream",
          "text": [
            "Drive already mounted at /gdrive; to attempt to forcibly remount, call drive.mount(\"/gdrive\", force_remount=True).\n",
            "/gdrive\n"
          ],
          "name": "stdout"
        }
      ]
    },
    {
      "cell_type": "markdown",
      "metadata": {
        "id": "xTKkBM-Mocr6",
        "colab_type": "text"
      },
      "source": [
        "## Core Code"
      ]
    },
    {
      "cell_type": "code",
      "metadata": {
        "id": "Uyhd-DSJmUXI",
        "colab_type": "code",
        "colab": {}
      },
      "source": [
        "# Resources path\n",
        "base_filepath = 'My Drive/SoccerAI/train_resources'\n",
        "class_description_file = 'class-descriptions-boxable.csv'\n",
        "labeled_bbox_file = 'train-annotations-bbox.csv'\n",
        "train_image_file = 'train-images-boxable-with-rotation.csv'"
      ],
      "execution_count": 0,
      "outputs": []
    },
    {
      "cell_type": "code",
      "metadata": {
        "id": "EtowTSKGoj73",
        "colab_type": "code",
        "colab": {}
      },
      "source": [
        "\n",
        "# Classes df lists the Classes available\n",
        "classes_df = pd.read_csv(base_filepath+'/'+class_description_file,header=None,names=['id','label'])\n",
        "\n",
        "# labeled bbox df contains the labeled data : IMG ID + BBox coordinates\n",
        "labeled_bbox_df = pd.read_csv(base_filepath+'/'+labeled_bbox_file)\n",
        "\n",
        "# Train image df contains images + Metadata (Author, URL, Title ...)\n",
        "train_image_df = pd.read_csv(base_filepath+'/'+train_image_file)"
      ],
      "execution_count": 0,
      "outputs": []
    },
    {
      "cell_type": "code",
      "metadata": {
        "id": "JTwFFPcMpJ1G",
        "colab_type": "code",
        "colab": {
          "base_uri": "https://localhost:8080/",
          "height": 34
        },
        "outputId": "9f592ed0-d74b-4053-c5f7-bd0e35b0df9a"
      },
      "source": [
        "# We are just interested in Football & Person classes\n",
        "classes_of_interest = ['Person','Football']\n",
        "classes_label = {}\n",
        "for class_of_interest in classes_of_interest:\n",
        "  class_label = classes_df[classes_df['label']==class_of_interest]['id'].values[0]\n",
        "  classes_label.update({class_of_interest:class_label})\n",
        "\n",
        "print(classes_label)\n",
        "\n",
        "revert_dict = {}\n",
        "for k,v in classes_label.items():\n",
        "  revert_dict.update({v:k})"
      ],
      "execution_count": 6,
      "outputs": [
        {
          "output_type": "stream",
          "text": [
            "{'Person': '/m/01g317', 'Football': '/m/01226z'}\n"
          ],
          "name": "stdout"
        }
      ]
    },
    {
      "cell_type": "code",
      "metadata": {
        "id": "-EBEV_FO1pVn",
        "colab_type": "code",
        "colab": {
          "base_uri": "https://localhost:8080/",
          "height": 84
        },
        "outputId": "a4ed4371-0024-46c3-8bfb-54ebc545b541"
      },
      "source": [
        "# We only consider 1000 images of each class for the moment\n",
        "classes_df_dict = {}\n",
        "for class_of_interest in classes_of_interest:\n",
        "  bbox_df = labeled_bbox_df[labeled_bbox_df['LabelName']==classes_label.get(class_of_interest)]\n",
        "  img_id = bbox_df['ImageID'].unique()[0:1000]\n",
        "  img_df = train_image_df[train_image_df['ImageID'].isin(img_id)].sample(frac=1).reset_index(drop=True)\n",
        "  classes_df_dict.update({class_of_interest:img_df}) "
      ],
      "execution_count": 35,
      "outputs": [
        {
          "output_type": "stream",
          "text": [
            "Index(['ImageID', 'Subset', 'OriginalURL', 'OriginalLandingURL', 'License',\n",
            "       'AuthorProfileURL', 'Author', 'Title', 'OriginalSize', 'OriginalMD5',\n",
            "       'Thumbnail300KURL', 'Rotation'],\n",
            "      dtype='object')\n"
          ],
          "name": "stdout"
        }
      ]
    },
    {
      "cell_type": "code",
      "metadata": {
        "id": "6elSNvZO4eyb",
        "colab_type": "code",
        "colab": {
          "base_uri": "https://localhost:8080/",
          "height": 171
        },
        "outputId": "2db3428c-da2f-41b1-8263-c192a3264f94"
      },
      "source": [
        "# Only executes this part once\n",
        "# Let's download the img\n",
        "\n",
        "for class_of_interest in classes_of_interest:\n",
        "  os.mkdir(base_filepath+'/'+class_of_interest)\n",
        "  for index,row in (classes_df_dict.get(class_of_interest)).iterrows():\n",
        "      url = row['OriginalURL']\n",
        "      try:\n",
        "          img = io.imread(url)\n",
        "          io.imsave(base_filepath+'/'+class_of_interest+'/'+row[\"ImageID\"]+\".jpg\",img)\n",
        "      except:\n",
        "          pass\n"
      ],
      "execution_count": 36,
      "outputs": [
        {
          "output_type": "stream",
          "text": [
            "/usr/local/lib/python3.6/dist-packages/PIL/TiffImagePlugin.py:725: UserWarning: Possibly corrupt EXIF data.  Expecting to read 285413634 bytes but only got 0. Skipping tag 780\n",
            "  \" Skipping tag %s\" % (size, len(data), tag))\n",
            "/usr/local/lib/python3.6/dist-packages/PIL/TiffImagePlugin.py:742: UserWarning: Corrupt EXIF data.  Expecting to read 12 bytes but only got 2. \n",
            "  warnings.warn(str(msg))\n",
            "/usr/local/lib/python3.6/dist-packages/PIL/TiffImagePlugin.py:725: UserWarning: Possibly corrupt EXIF data.  Expecting to read 33755396 bytes but only got 0. Skipping tag 631\n",
            "  \" Skipping tag %s\" % (size, len(data), tag))\n",
            "/usr/local/lib/python3.6/dist-packages/PIL/TiffImagePlugin.py:725: UserWarning: Possibly corrupt EXIF data.  Expecting to read 9663676444 bytes but only got 7856. Skipping tag 7782\n",
            "  \" Skipping tag %s\" % (size, len(data), tag))\n"
          ],
          "name": "stderr"
        }
      ]
    },
    {
      "cell_type": "code",
      "metadata": {
        "id": "QMjHUqMDX642",
        "colab_type": "code",
        "colab": {}
      },
      "source": [
        "# Let's gather all the Data in one DF\n",
        "train_img_per_class={}\n",
        "for class_of_interest in classes_of_interest:\n",
        "  image_id = []\n",
        "  for image in os.listdir(base_filepath+'/'+class_of_interest+'/'):\n",
        "      image_id.append(image[:-4])\n",
        "  train_bbox_df = labeled_bbox_df[labeled_bbox_df['ImageID'].isin(image_id) \n",
        "                & labeled_bbox_df['LabelName'].isin([classes_label.get(class_of_interest)])]\n",
        "  \n",
        "  train_img_per_class.update({class_of_interest:train_bbox_df})\n",
        "\n",
        "train_img_df = pd.DataFrame()\n",
        "for class_of_interest in classes_of_interest:\n",
        "  train_img_df = train_img_df.append(train_img_per_class.get(class_of_interest))\n"
      ],
      "execution_count": 0,
      "outputs": []
    },
    {
      "cell_type": "code",
      "metadata": {
        "id": "iG40IZqLb_3M",
        "colab_type": "code",
        "colab": {}
      },
      "source": [
        "# Now we must split between train & test df\n",
        "test_id = []\n",
        "for class_of_interest in classes_of_interest:\n",
        "  unique_id = train_img_per_class.get(class_of_interest)['ImageID'].unique()\n",
        "  test_id +=  unique_id.tolist()[0:int(0.2*len(unique_id))]\n",
        "\n",
        "test_df = train_img_df[train_img_df['ImageID'].isin(test_id)]\n",
        "train_df = train_img_df[~train_img_df['ImageID'].isin(test_id)]\n"
      ],
      "execution_count": 0,
      "outputs": []
    },
    {
      "cell_type": "code",
      "metadata": {
        "id": "sQ1HOm5DfEAh",
        "colab_type": "code",
        "colab": {
          "base_uri": "https://localhost:8080/",
          "height": 171
        },
        "outputId": "643ed86f-f4f3-459e-a79a-09a64e7276a9"
      },
      "source": [
        "train_annotation =  open(base_filepath + \"/train_annotation.txt\",\"w+\")\n",
        "for index,row in train_df.iterrows():\n",
        "  class_name = revert_dict.get(row['LabelName'])\n",
        "  filename = base_filepath+'/'+class_name+'/'+row['ImageID']+'.jpg'\n",
        "  img = io.imread(filename)\n",
        "  try:\n",
        "    height, width, _ = img.shape\n",
        "  except:\n",
        "    img = color.gray2rgb(img)\n",
        "    height, width, _ = img.shape\n",
        "    io.imsave(filename,img)\n",
        "  x1 = int(row['XMin']*width)\n",
        "  x2 = int(row['XMax']*width)\n",
        "  y1 = int(row['YMin']*height)\n",
        "  y2 = int(row['YMax']*height)\n",
        "  train_annotation.write(row['ImageID'] + ',' + filename + ',' + str(x1) + ',' + str(y1) + ',' + str(x2) + ',' + str(y2) + ',' + class_name + '\\n')\n",
        "train_annotation.close()\n",
        "\n",
        "test_annotation =  open(base_filepath + \"/test_annotation.txt\",\"w+\")\n",
        "for index,row in test_df.iterrows():\n",
        "  class_name = revert_dict.get(row['LabelName'])\n",
        "  filename = base_filepath+'/'+class_name+'/'+row['ImageID']+'.jpg'\n",
        "  img = io.imread(filename)\n",
        "  try:\n",
        "    height, width, _ = img.shape\n",
        "  except:\n",
        "    img = color.gray2rgb(img)\n",
        "    height, width, _ = img.shape\n",
        "    io.imsave(filename,img)\n",
        "  x1 = int(row['XMin']*width)\n",
        "  x2 = int(row['XMax']*width)\n",
        "  y1 = int(row['YMin']*height)\n",
        "  y2 = int(row['YMax']*height)\n",
        "  test_annotation.write(row['ImageID'] + ',' + filename + ',' + str(x1) + ',' + str(y1) + ',' + str(x2) + ',' + str(y2) + ',' + class_name + '\\n')\n",
        "test_annotation.close()"
      ],
      "execution_count": 9,
      "outputs": [
        {
          "output_type": "stream",
          "text": [
            "/usr/local/lib/python3.6/dist-packages/PIL/TiffImagePlugin.py:725: UserWarning: Possibly corrupt EXIF data.  Expecting to read 285413634 bytes but only got 0. Skipping tag 780\n",
            "  \" Skipping tag %s\" % (size, len(data), tag))\n",
            "/usr/local/lib/python3.6/dist-packages/PIL/TiffImagePlugin.py:742: UserWarning: Corrupt EXIF data.  Expecting to read 12 bytes but only got 2. \n",
            "  warnings.warn(str(msg))\n",
            "/usr/local/lib/python3.6/dist-packages/PIL/TiffImagePlugin.py:725: UserWarning: Possibly corrupt EXIF data.  Expecting to read 33755396 bytes but only got 0. Skipping tag 631\n",
            "  \" Skipping tag %s\" % (size, len(data), tag))\n",
            "/usr/local/lib/python3.6/dist-packages/PIL/TiffImagePlugin.py:725: UserWarning: Possibly corrupt EXIF data.  Expecting to read 9663676444 bytes but only got 7856. Skipping tag 7782\n",
            "  \" Skipping tag %s\" % (size, len(data), tag))\n"
          ],
          "name": "stderr"
        }
      ]
    }
  ]
}